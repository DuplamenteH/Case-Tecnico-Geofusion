{
  "nbformat": 4,
  "nbformat_minor": 0,
  "metadata": {
    "colab": {
      "name": "Case Tecnico Estagio ml",
      "private_outputs": true,
      "provenance": [],
      "mount_file_id": "14ikcqiqfrhW1M8I8u66ZCr-sJQw9uZiX",
      "authorship_tag": "ABX9TyNTCkAyPFKy6LchGfx1NNNA",
      "include_colab_link": true
    },
    "kernelspec": {
      "name": "python3",
      "display_name": "Python 3"
    },
    "language_info": {
      "name": "python"
    }
  },
  "cells": [
    {
      "cell_type": "markdown",
      "metadata": {
        "id": "view-in-github",
        "colab_type": "text"
      },
      "source": [
        "<a href=\"https://colab.research.google.com/github/DuplamenteH/Case-Tecnico-Geofusion/blob/main/Case_Tecnico_Estagio_ml.ipynb\" target=\"_parent\"><img src=\"https://colab.research.google.com/assets/colab-badge.svg\" alt=\"Open In Colab\"/></a>"
      ]
    },
    {
      "cell_type": "markdown",
      "metadata": {
        "id": "WuTtc8K1mG5a"
      },
      "source": [
        "#Carlos Matheus"
      ]
    },
    {
      "cell_type": "markdown",
      "metadata": {
        "id": "TFjdhvh6mMCq"
      },
      "source": [
        "#Importações e carregamento dos dados"
      ]
    },
    {
      "cell_type": "code",
      "metadata": {
        "id": "REaz7K6666-R"
      },
      "source": [
        "path2data = '/content/drive/MyDrive/Estagio/DesafioEstagioMachineLearning.csv'"
      ],
      "execution_count": null,
      "outputs": []
    },
    {
      "cell_type": "code",
      "metadata": {
        "id": "_JlUsAclmX9N"
      },
      "source": [
        "import pandas as pd\n",
        "import numpy as np\n",
        "from imblearn.under_sampling import RandomUnderSampler\n",
        "from sklearn.linear_model import LinearRegression\n",
        "from sklearn.tree import DecisionTreeRegressor\n",
        "from sklearn.ensemble import RandomForestRegressor,GradientBoostingRegressor\n",
        "from sklearn.dummy import DummyRegressor\n",
        "from sklearn.model_selection import GridSearchCV,train_test_split,cross_val_score\n",
        "from sklearn.metrics import mean_absolute_error as mae\n",
        "from sklearn.metrics import mean_squared_error as mse"
      ],
      "execution_count": null,
      "outputs": []
    },
    {
      "cell_type": "code",
      "metadata": {
        "id": "wZ2tm8SJmdkj"
      },
      "source": [
        "df = pd.read_csv(path2data)\n",
        "df.head()"
      ],
      "execution_count": null,
      "outputs": []
    },
    {
      "cell_type": "markdown",
      "metadata": {
        "id": "bPo-Oc6EmkQ5"
      },
      "source": [
        "# Análise exploratória"
      ]
    },
    {
      "cell_type": "code",
      "metadata": {
        "id": "n6ZPTG_fmi4y"
      },
      "source": [
        "df.describe()"
      ],
      "execution_count": null,
      "outputs": []
    },
    {
      "cell_type": "code",
      "metadata": {
        "id": "xXuYcySqmv-p"
      },
      "source": [
        "df.info()"
      ],
      "execution_count": null,
      "outputs": []
    },
    {
      "cell_type": "code",
      "metadata": {
        "id": "TVuMvCmVrwEG"
      },
      "source": [
        "# Vendo a porcentagem de dados faltantes \n",
        "(6/160)*100"
      ],
      "execution_count": null,
      "outputs": []
    },
    {
      "cell_type": "markdown",
      "metadata": {
        "id": "m0H2RUD3pEfX"
      },
      "source": [
        "## Tramento os dados Faltantes"
      ]
    },
    {
      "cell_type": "code",
      "metadata": {
        "id": "amk1bWrOpLMJ"
      },
      "source": [
        "df_clean = df.dropna()\n",
        "df_clean"
      ],
      "execution_count": null,
      "outputs": []
    },
    {
      "cell_type": "code",
      "metadata": {
        "id": "xKyYbW6gsH__"
      },
      "source": [
        "df = df_clean"
      ],
      "execution_count": null,
      "outputs": []
    },
    {
      "cell_type": "code",
      "metadata": {
        "id": "WeLcTgV3sJju"
      },
      "source": [
        "df.info()"
      ],
      "execution_count": null,
      "outputs": []
    },
    {
      "cell_type": "markdown",
      "metadata": {
        "id": "nLNyVCRKr8FX"
      },
      "source": [
        "## Verificando a coluna rendaMedia"
      ]
    },
    {
      "cell_type": "code",
      "metadata": {
        "id": "OhvgYlKjr7fX"
      },
      "source": [
        "renda = df['rendaMedia']"
      ],
      "execution_count": null,
      "outputs": []
    },
    {
      "cell_type": "code",
      "metadata": {
        "id": "IsR1eg8QsPi2"
      },
      "source": [
        "renda.max()"
      ],
      "execution_count": null,
      "outputs": []
    },
    {
      "cell_type": "code",
      "metadata": {
        "id": "6W13xjYzsZE3"
      },
      "source": [
        "renda.min()"
      ],
      "execution_count": null,
      "outputs": []
    },
    {
      "cell_type": "code",
      "metadata": {
        "id": "vgf-Br2r4EQE"
      },
      "source": [
        "renda.mean()"
      ],
      "execution_count": null,
      "outputs": []
    },
    {
      "cell_type": "code",
      "metadata": {
        "id": "gicuWMkK4NPz"
      },
      "source": [
        ""
      ],
      "execution_count": null,
      "outputs": []
    },
    {
      "cell_type": "markdown",
      "metadata": {
        "id": "nmLlrlK5nho5"
      },
      "source": [
        "## Algumas Perguntas que devemos fazer:\n",
        "\n",
        "1.   Bairros com renda media maior que 60K\n",
        "2.   Bairros com a maior taxa de Domicilios A1 e A2\n",
        "3.   Bairros com renda media entre 5 mil e 10 mil\n",
        "4.   Bairros com renda media de 5mil ate 3 mil\n",
        "5.   Bairros com renda media abaixo de 3 mil\n",
        "6.   Bairros com a maior taxa de Domicilios E\n",
        "7.   Ver a diferença do tamanho  da população dos bairros de alta e baixa renda.\n",
        "8.   Renda Media dos bairros que tem maiores taxas de Domicilios de classe E\n",
        "9.   Bairro de maior população\n",
        "\n",
        "\n"
      ]
    },
    {
      "cell_type": "markdown",
      "metadata": {
        "id": "e2ee6tf0o7Ff"
      },
      "source": [
        "## 1. Bairros com renda media maior que 60K e renda acima de 10mil"
      ]
    },
    {
      "cell_type": "code",
      "metadata": {
        "id": "RYFx5symo6n4"
      },
      "source": [
        "bairrosRenda_maior60k = df.loc[df['rendaMedia']<=1000]\n",
        "bairrosRenda_maior60k.shape[0]"
      ],
      "execution_count": null,
      "outputs": []
    },
    {
      "cell_type": "code",
      "metadata": {
        "id": "oBmKhJhD-8rj"
      },
      "source": [
        "bairrosRenda_maior60k"
      ],
      "execution_count": null,
      "outputs": []
    },
    {
      "cell_type": "markdown",
      "metadata": {
        "id": "0o3n5M7t-x85"
      },
      "source": [
        " **Assim podemos classificar esta linha como um \"outlier\"**"
      ]
    },
    {
      "cell_type": "code",
      "metadata": {
        "id": "k2UNJ5a-Hy0S"
      },
      "source": [
        "bairrosRenda_maior10k = df.loc[df['rendaMedia']>=10000]\n",
        "bairrosRenda_maior10k.shape[0]"
      ],
      "execution_count": null,
      "outputs": []
    },
    {
      "cell_type": "code",
      "metadata": {
        "id": "nY6ummdnIJvy"
      },
      "source": [
        "bairrosRenda_maior10k.reset_index(inplace=True)"
      ],
      "execution_count": null,
      "outputs": []
    },
    {
      "cell_type": "code",
      "metadata": {
        "id": "tmWi5eNkH31t"
      },
      "source": [
        "nome_bairros_renda_maior_10K = bairrosRenda_maior10k['nome']\n",
        "nome_bairros_renda_maior_10K"
      ],
      "execution_count": null,
      "outputs": []
    },
    {
      "cell_type": "markdown",
      "metadata": {
        "id": "B5T3UTY2_hTE"
      },
      "source": [
        "## 2.Bairros com a maior taxa de Domicilios A1 e A2"
      ]
    },
    {
      "cell_type": "code",
      "metadata": {
        "id": "qGk7h0uMBlWQ"
      },
      "source": [
        "maior_taxa_DomiciliosA = df.sort_values(by = ['domiciliosA1','domiciliosA2'],ascending=False)\n",
        "maior_taxa_DomiciliosA.reset_index(inplace=True)\n",
        "maior_taxa_DomiciliosA.drop(columns=['index'],inplace=True)\n",
        "maior_taxa_DomiciliosA['nome'].head(12)"
      ],
      "execution_count": null,
      "outputs": []
    },
    {
      "cell_type": "code",
      "metadata": {
        "id": "HMXZ9N6qJ4rk"
      },
      "source": [
        "bairro_renda_Alta = maior_taxa_DomiciliosA.head(10)"
      ],
      "execution_count": null,
      "outputs": []
    },
    {
      "cell_type": "code",
      "metadata": {
        "id": "9kE8igTlOlBO"
      },
      "source": [
        "renda_media_Classe_Alta = bairro_renda_Alta.rendaMedia.mean()\n",
        "round(renda_media_Classe_Alta)"
      ],
      "execution_count": null,
      "outputs": []
    },
    {
      "cell_type": "markdown",
      "metadata": {
        "id": "2SWduXHKCU03"
      },
      "source": [
        "### **O bairro com maior taxa de domicilios de classe A é a Barra da Tijuca**"
      ]
    },
    {
      "cell_type": "markdown",
      "metadata": {
        "id": "kXv8hEzJCkO2"
      },
      "source": [
        "## 3. Bairros com renda media entre 5 mil e 10 mil"
      ]
    },
    {
      "cell_type": "code",
      "metadata": {
        "id": "TH_r_E-SClbp"
      },
      "source": [
        "teste = ((df['rendaMedia']<=10000) & (df['rendaMedia']>=5000))\n",
        "renda_entre5k_e_10k = df[teste]"
      ],
      "execution_count": null,
      "outputs": []
    },
    {
      "cell_type": "code",
      "metadata": {
        "id": "bxj0tCX3HbQX"
      },
      "source": [
        "renda_entre5k_e_10k.shape[0]"
      ],
      "execution_count": null,
      "outputs": []
    },
    {
      "cell_type": "code",
      "metadata": {
        "id": "jbXJCk8wIo0w"
      },
      "source": [
        "renda_entre5k_e_10k.reset_index(inplace=True)"
      ],
      "execution_count": null,
      "outputs": []
    },
    {
      "cell_type": "code",
      "metadata": {
        "id": "CTFMxHhLC5FL"
      },
      "source": [
        "bairros_renda_entre5k_e_10k = renda_entre5k_e_10k['nome']\n",
        "bairros_renda_entre5k_e_10k"
      ],
      "execution_count": null,
      "outputs": []
    },
    {
      "cell_type": "markdown",
      "metadata": {
        "id": "4x4OkXCPGWV-"
      },
      "source": [
        "## 4. Bairros com renda media de 5mil ate 3 mil"
      ]
    },
    {
      "cell_type": "code",
      "metadata": {
        "id": "Sm7GGqzGEKxB"
      },
      "source": [
        "selecao = ((df['rendaMedia']>=3000) & (df['rendaMedia']<=5000))\n",
        "renda_entre3k_e_5k = df[selecao]"
      ],
      "execution_count": null,
      "outputs": []
    },
    {
      "cell_type": "code",
      "metadata": {
        "id": "hFganYEzGpFO"
      },
      "source": [
        "renda_entre3k_e_5k.reset_index(inplace=True)"
      ],
      "execution_count": null,
      "outputs": []
    },
    {
      "cell_type": "code",
      "metadata": {
        "id": "ht-HPPYZHVkV"
      },
      "source": [
        "renda_entre3k_e_5k.shape[0]"
      ],
      "execution_count": null,
      "outputs": []
    },
    {
      "cell_type": "code",
      "metadata": {
        "id": "ZTs4KtxuGm6q"
      },
      "source": [
        "bairros_renda_entre3k_e_5k = renda_entre3k_e_5k['nome']\n",
        "bairros_renda_entre3k_e_5k"
      ],
      "execution_count": null,
      "outputs": []
    },
    {
      "cell_type": "markdown",
      "metadata": {
        "id": "r3BwOymcI7Xu"
      },
      "source": [
        "## 5.Bairros com renda media abaixo de 3 mil"
      ]
    },
    {
      "cell_type": "code",
      "metadata": {
        "id": "vuT9M-III7D1"
      },
      "source": [
        "bairrosRenda_menor3k = df.loc[df['rendaMedia']<3000]\n",
        "bairrosRenda_menor3k.shape[0]"
      ],
      "execution_count": null,
      "outputs": []
    },
    {
      "cell_type": "code",
      "metadata": {
        "id": "V6W-YpDMJQAQ"
      },
      "source": [
        "bairrosRenda_menor3k.reset_index(inplace=True)"
      ],
      "execution_count": null,
      "outputs": []
    },
    {
      "cell_type": "code",
      "metadata": {
        "id": "uHbpqEgUUkaz"
      },
      "source": [
        "baixa_renda=bairrosRenda_menor3k.head(10)"
      ],
      "execution_count": null,
      "outputs": []
    },
    {
      "cell_type": "code",
      "metadata": {
        "id": "PP-qcm3IJYMF"
      },
      "source": [
        "bairros_baixa_renda = bairrosRenda_menor3k['nome']"
      ],
      "execution_count": null,
      "outputs": []
    },
    {
      "cell_type": "code",
      "metadata": {
        "id": "ytr3Nt77JguH"
      },
      "source": [
        "bairros_baixa_renda.head(10)"
      ],
      "execution_count": null,
      "outputs": []
    },
    {
      "cell_type": "code",
      "metadata": {
        "id": "tUsvsxynJiqs"
      },
      "source": [
        "bairros_baixa_renda.shape[0]"
      ],
      "execution_count": null,
      "outputs": []
    },
    {
      "cell_type": "code",
      "metadata": {
        "id": "3rtmPllQM7Tq"
      },
      "source": [
        ""
      ],
      "execution_count": null,
      "outputs": []
    },
    {
      "cell_type": "markdown",
      "metadata": {
        "id": "UHTUQ6q7Kd0E"
      },
      "source": [
        "## 6 e 8 .Bairros com a maior taxa de Domicilios E . / Renda Media dos bairros que tem maiores taxas de Domicilios de classe E"
      ]
    },
    {
      "cell_type": "code",
      "metadata": {
        "id": "wzbya6rdLgMA"
      },
      "source": [
        "df_copy = df.copy()"
      ],
      "execution_count": null,
      "outputs": []
    },
    {
      "cell_type": "code",
      "metadata": {
        "id": "lM2-K5epM5xH"
      },
      "source": [
        "df_domicilioD_E = df_copy.sort_values(by=['domiciliosE','domiciliosD'],ascending=False)\n",
        "df_domicilioD_E.reset_index(inplace=True)"
      ],
      "execution_count": null,
      "outputs": []
    },
    {
      "cell_type": "code",
      "metadata": {
        "id": "tSOOM-qDNwD4"
      },
      "source": [
        "df_domicilioD_E.drop(columns=['index'],inplace=True)"
      ],
      "execution_count": null,
      "outputs": []
    },
    {
      "cell_type": "code",
      "metadata": {
        "id": "acJEKykwNDcw"
      },
      "source": [
        "df_domicilioD_E['nome'].head()"
      ],
      "execution_count": null,
      "outputs": []
    },
    {
      "cell_type": "code",
      "metadata": {
        "id": "BQtB-e74N-1u"
      },
      "source": [
        "top5_renda_baixa = df_domicilioD_E.head(10)"
      ],
      "execution_count": null,
      "outputs": []
    },
    {
      "cell_type": "code",
      "metadata": {
        "id": "OZR7dSgqOQEs"
      },
      "source": [
        "renda_media_Classe_E = top5_renda_baixa.rendaMedia.mean()\n",
        "round(renda_media_Classe_E)"
      ],
      "execution_count": null,
      "outputs": []
    },
    {
      "cell_type": "code",
      "metadata": {
        "id": "TsBriFRqOOMO"
      },
      "source": [
        ""
      ],
      "execution_count": null,
      "outputs": []
    },
    {
      "cell_type": "markdown",
      "metadata": {
        "id": "0cBkKUfuMqml"
      },
      "source": [
        "##7. Ver a diferença de população dos bairros de alta e baixa renda"
      ]
    },
    {
      "cell_type": "code",
      "metadata": {
        "id": "uG38Q2QGMptr"
      },
      "source": [
        "from plotly.subplots import make_subplots\n",
        "import plotly.graph_objects as go"
      ],
      "execution_count": null,
      "outputs": []
    },
    {
      "cell_type": "code",
      "metadata": {
        "id": "X8tEcpOANgTn"
      },
      "source": [
        "data = [go.Bar(x=df_domicilioD_E.população.head(10),\n",
        "               y=df_domicilioD_E.nome.head(10),\n",
        "               marker = {'color': 'lightblue',\n",
        "                         'line': {'color': '#333',\n",
        "                                  'width': 2}\n",
        "                        },\n",
        "               name='Baixa renda',\n",
        "               opacity= 0.7,\n",
        "               orientation = 'h'\n",
        "              ),\n",
        "        go.Bar(x=maior_taxa_DomiciliosA.população.head(10),\n",
        "               y=maior_taxa_DomiciliosA.nome.head(10),\n",
        "               marker = {'color': 'lightgreen',\n",
        "                         'line': {'color': '#333',\n",
        "                                  'width': 2}\n",
        "                        },\n",
        "               name='Alta renda',\n",
        "               opacity= 0.7,\n",
        "               orientation = 'h'\n",
        "              )\n",
        "       ]\n",
        "\n",
        "# Criando Layout\n",
        "configuracoes_layout = go.Layout(title='Diferença da qtd de população nos bairros com maiores indices de domicilios de baixa renda e de alta renda',\n",
        "                                 yaxis={'title':'População'},\n",
        "                                 xaxis={'title':'bairros'})\n",
        "\n",
        "# Objeto figura\n",
        "\n",
        "fig = go.Figure(data=data, layout=configuracoes_layout)\n",
        "fig.show()"
      ],
      "execution_count": null,
      "outputs": []
    },
    {
      "cell_type": "markdown",
      "metadata": {
        "id": "-cCqGZulhs1D"
      },
      "source": [
        "### Outro dado interessante seria a faixa etaria da população"
      ]
    },
    {
      "cell_type": "code",
      "metadata": {
        "id": "48oCLizzmAmU"
      },
      "source": [
        "data = [go.Bar(x=df_domicilioD_E.popAte9.head(10),\n",
        "               y=df_domicilioD_E.nome.head(10),\n",
        "               marker = {'color': 'lightblue',\n",
        "                         'line': {'color': '#333',\n",
        "                                  'width': 2}\n",
        "                        },\n",
        "               name='Baixa renda',\n",
        "               opacity= 0.7,\n",
        "               orientation = 'h'\n",
        "              ),\n",
        "        go.Bar(x=maior_taxa_DomiciliosA.popAte9.head(10),\n",
        "               y=maior_taxa_DomiciliosA.nome.head(10),\n",
        "               marker = {'color': 'lightgreen',\n",
        "                         'line': {'color': '#333',\n",
        "                                  'width': 2}\n",
        "                        },\n",
        "               name='Alta renda',\n",
        "               opacity= 0.7,\n",
        "               orientation = 'h'\n",
        "              )\n",
        "       ]\n",
        "\n",
        "# Criando Layout\n",
        "configuracoes_layout = go.Layout(title='Diferença da qtd de população na faixa etária de ate 9 anos,  nos bairros com maiores indices de domicilios de baixa renda e de alta renda ',\n",
        "                                 yaxis={'title':'População'},\n",
        "                                 xaxis={'title':'bairros'})\n",
        "\n",
        "# Objeto figura\n",
        "\n",
        "fig2 = go.Figure(data=data, layout=configuracoes_layout)\n",
        "fig2.show()"
      ],
      "execution_count": null,
      "outputs": []
    },
    {
      "cell_type": "code",
      "metadata": {
        "id": "MU9k2XIphsjT"
      },
      "source": [
        "data = [go.Bar(x=df_domicilioD_E.popDe10a14.head(10),\n",
        "               y=df_domicilioD_E.nome.head(10),\n",
        "               marker = {'color': 'lightblue',\n",
        "                         'line': {'color': '#333',\n",
        "                                  'width': 2}\n",
        "                        },\n",
        "               name='Baixa renda',\n",
        "               opacity= 0.7,\n",
        "               orientation = 'h'\n",
        "              ),\n",
        "        go.Bar(x=maior_taxa_DomiciliosA.popDe10a14.head(10),\n",
        "               y=maior_taxa_DomiciliosA.nome.head(10),\n",
        "               marker = {'color': 'lightgreen',\n",
        "                         'line': {'color': '#333',\n",
        "                                  'width': 2}\n",
        "                        },\n",
        "               name='Alta renda',\n",
        "               opacity= 0.7,\n",
        "               orientation = 'h'\n",
        "              )\n",
        "       ]\n",
        "\n",
        "# Criando Layout\n",
        "configuracoes_layout = go.Layout(title='Diferença da qtd de população na faixa etária de 10 a 14 anos,  nos bairros com maiores indices de domicilios de baixa renda e de alta renda ',\n",
        "                                 yaxis={'title':'População'},\n",
        "                                 xaxis={'title':'bairros'})\n",
        "\n",
        "# Objeto figura\n",
        "\n",
        "fig2 = go.Figure(data=data, layout=configuracoes_layout)\n",
        "fig2.show()"
      ],
      "execution_count": null,
      "outputs": []
    },
    {
      "cell_type": "code",
      "metadata": {
        "id": "uuXnXOD0ZCmr"
      },
      "source": [
        "data = [go.Bar(x=df_domicilioD_E.popDe15a19.head(10),\n",
        "               y=df_domicilioD_E.nome.head(10),\n",
        "               marker = {'color': 'lightblue',\n",
        "                         'line': {'color': '#333',\n",
        "                                  'width': 2}\n",
        "                        },\n",
        "               name='Baixa renda',\n",
        "               opacity= 0.7,\n",
        "               orientation = 'h'\n",
        "              ),\n",
        "        go.Bar(x=maior_taxa_DomiciliosA.popDe15a19.head(10),\n",
        "               y=maior_taxa_DomiciliosA.nome.head(10),\n",
        "               marker = {'color': 'lightgreen',\n",
        "                         'line': {'color': '#333',\n",
        "                                  'width': 2}\n",
        "                        },\n",
        "               name='Alta renda',\n",
        "               opacity= 0.7,\n",
        "               orientation = 'h'\n",
        "              )\n",
        "       ]\n",
        "\n",
        "# Criando Layout\n",
        "configuracoes_layout = go.Layout(title='Diferença da qtd de população na faixa etária de 15 a 19 anos,  nos bairros com maiores indices de domicilios de baixa renda e de alta renda ',\n",
        "                                 yaxis={'title':'População'},\n",
        "                                 xaxis={'title':'bairros'})\n",
        "\n",
        "# Objeto figura\n",
        "\n",
        "fig3 = go.Figure(data=data, layout=configuracoes_layout)\n",
        "fig3.show()"
      ],
      "execution_count": null,
      "outputs": []
    },
    {
      "cell_type": "code",
      "metadata": {
        "id": "5vHHRaPMiUcO"
      },
      "source": [
        "data = [go.Bar(x=df_domicilioD_E.popDe20a24.head(10),\n",
        "               y=df_domicilioD_E.nome.head(10),\n",
        "               marker = {'color': 'lightblue',\n",
        "                         'line': {'color': '#333',\n",
        "                                  'width': 2}\n",
        "                        },\n",
        "               name='Baixa renda',\n",
        "               opacity= 0.7,\n",
        "               orientation = 'h'\n",
        "              ),\n",
        "        go.Bar(x=maior_taxa_DomiciliosA.popDe20a24.head(10),\n",
        "               y=maior_taxa_DomiciliosA.nome.head(10),\n",
        "               marker = {'color': 'lightgreen',\n",
        "                         'line': {'color': '#333',\n",
        "                                  'width': 2}\n",
        "                        },\n",
        "               name='Alta renda',\n",
        "               opacity= 0.7,\n",
        "               orientation = 'h'\n",
        "              )\n",
        "       ]\n",
        "\n",
        "# Criando Layout\n",
        "configuracoes_layout = go.Layout(title='Diferença da qtd de população na faixa etária de 20 a 24 anos,  nos bairros com maiores indices de domicilios de baixa renda e de alta renda ',\n",
        "                                 yaxis={'title':'População'},\n",
        "                                 xaxis={'title':'bairros'})\n",
        "\n",
        "# Objeto figura\n",
        "\n",
        "fig4 = go.Figure(data=data, layout=configuracoes_layout)\n",
        "fig4.show()"
      ],
      "execution_count": null,
      "outputs": []
    },
    {
      "cell_type": "code",
      "metadata": {
        "id": "9EBrRGQEinL_"
      },
      "source": [
        "data = [go.Bar(x=df_domicilioD_E.popDe25a34.head(10),\n",
        "               y=df_domicilioD_E.nome.head(10),\n",
        "               marker = {'color': 'lightblue',\n",
        "                         'line': {'color': '#333',\n",
        "                                  'width': 2}\n",
        "                        },\n",
        "               name='Baixa renda',\n",
        "               opacity= 0.7,\n",
        "               orientation = 'h'\n",
        "              ),\n",
        "        go.Bar(x=maior_taxa_DomiciliosA.popDe25a34.head(10),\n",
        "               y=maior_taxa_DomiciliosA.nome.head(10),\n",
        "               marker = {'color': 'lightgreen',\n",
        "                         'line': {'color': '#333',\n",
        "                                  'width': 2}\n",
        "                        },\n",
        "               name='Alta renda',\n",
        "               opacity= 0.7,\n",
        "               orientation = 'h'\n",
        "              )\n",
        "       ]\n",
        "\n",
        "# Criando Layout\n",
        "configuracoes_layout = go.Layout(title='Diferença da qtd de população na faixa etária de 25 a 34 anos,  nos bairros com maiores indices de domicilios de baixa renda e de alta renda ',\n",
        "                                 yaxis={'title':'População'},\n",
        "                                 xaxis={'title':'bairros'})\n",
        "\n",
        "# Objeto figura\n",
        "\n",
        "fig5 = go.Figure(data=data, layout=configuracoes_layout)\n",
        "fig5.show()"
      ],
      "execution_count": null,
      "outputs": []
    },
    {
      "cell_type": "code",
      "metadata": {
        "id": "KT1e4aZLktev"
      },
      "source": [
        "data = [go.Bar(x=df_domicilioD_E.popDe35a49.head(10),\n",
        "               y=df_domicilioD_E.nome.head(10),\n",
        "               marker = {'color': 'lightblue',\n",
        "                         'line': {'color': '#333',\n",
        "                                  'width': 2}\n",
        "                        },\n",
        "               name='Baixa renda',\n",
        "               opacity= 0.7,\n",
        "               orientation = 'h'\n",
        "              ),\n",
        "        go.Bar(x=maior_taxa_DomiciliosA.popDe35a49.head(10),\n",
        "               y=maior_taxa_DomiciliosA.nome.head(10),\n",
        "               marker = {'color': 'lightgreen',\n",
        "                         'line': {'color': '#333',\n",
        "                                  'width': 2}\n",
        "                        },\n",
        "               name='Alta renda',\n",
        "               opacity= 0.7,\n",
        "               orientation = 'h'\n",
        "              )\n",
        "       ]\n",
        "\n",
        "# Criando Layout\n",
        "configuracoes_layout = go.Layout(title='Diferença da qtd de população na faixa etária de 35 a 49 anos,  nos bairros com maiores indices de domicilios de baixa renda e de alta renda ',\n",
        "                                 yaxis={'title':'População'},\n",
        "                                 xaxis={'title':'bairros'})\n",
        "\n",
        "# Objeto figura\n",
        "\n",
        "fig6 = go.Figure(data=data, layout=configuracoes_layout)\n",
        "fig6.show()"
      ],
      "execution_count": null,
      "outputs": []
    },
    {
      "cell_type": "code",
      "metadata": {
        "id": "C2BUyXcjk9WP"
      },
      "source": [
        "data = [go.Bar(x=df_domicilioD_E.popDe35a49.head(10),\n",
        "               y=df_domicilioD_E.nome.head(10),\n",
        "               marker = {'color': 'lightblue',\n",
        "                         'line': {'color': '#333',\n",
        "                                  'width': 2}\n",
        "                        },\n",
        "               name='Baixa renda',\n",
        "               opacity= 0.7,\n",
        "               orientation = 'h'\n",
        "              ),\n",
        "        go.Bar(x=maior_taxa_DomiciliosA.popDe35a49.head(10),\n",
        "               y=maior_taxa_DomiciliosA.nome.head(10),\n",
        "               marker = {'color': 'lightgreen',\n",
        "                         'line': {'color': '#333',\n",
        "                                  'width': 2}\n",
        "                        },\n",
        "               name='Alta renda',\n",
        "               opacity= 0.7,\n",
        "               orientation = 'h'\n",
        "              )\n",
        "       ]\n",
        "\n",
        "# Criando Layout\n",
        "configuracoes_layout = go.Layout(title='Diferença da qtd de população na faixa etária de 35 a 49 anos,  nos bairros com maiores indices de domicilios de baixa renda e de alta renda ',\n",
        "                                 yaxis={'title':'População'},\n",
        "                                 xaxis={'title':'bairros'})\n",
        "\n",
        "# Objeto figura\n",
        "\n",
        "fig7 = go.Figure(data=data, layout=configuracoes_layout)\n",
        "fig7.show()"
      ],
      "execution_count": null,
      "outputs": []
    },
    {
      "cell_type": "code",
      "metadata": {
        "id": "UvvbE2AvlN-H"
      },
      "source": [
        "data = [go.Bar(x=df_domicilioD_E.popDe50a59.head(10),\n",
        "               y=df_domicilioD_E.nome.head(10),\n",
        "               marker = {'color': 'lightblue',\n",
        "                         'line': {'color': '#333',\n",
        "                                  'width': 2}\n",
        "                        },\n",
        "               name='Baixa renda',\n",
        "               opacity= 0.7,\n",
        "               orientation = 'h'\n",
        "              ),\n",
        "        go.Bar(x=maior_taxa_DomiciliosA.popDe50a59.head(10),\n",
        "               y=maior_taxa_DomiciliosA.nome.head(10),\n",
        "               marker = {'color': 'lightgreen',\n",
        "                         'line': {'color': '#333',\n",
        "                                  'width': 2}\n",
        "                        },\n",
        "               name='Alta renda',\n",
        "               opacity= 0.7,\n",
        "               orientation = 'h'\n",
        "              )\n",
        "       ]\n",
        "\n",
        "# Criando Layout\n",
        "configuracoes_layout = go.Layout(title='Diferença da qtd de população na faixa etária de 50 a 59 anos,  nos bairros com maiores indices de domicilios de baixa renda e de alta renda ',\n",
        "                                 yaxis={'title':'População'},\n",
        "                                 xaxis={'title':'bairros'})\n",
        "\n",
        "# Objeto figura\n",
        "\n",
        "fig = go.Figure(data=data, layout=configuracoes_layout)\n",
        "fig.show()"
      ],
      "execution_count": null,
      "outputs": []
    },
    {
      "cell_type": "code",
      "metadata": {
        "id": "o_iCp5uGlbLc"
      },
      "source": [
        "data = [go.Bar(x=df_domicilioD_E.popMaisDe60.head(10),\n",
        "               y=df_domicilioD_E.nome.head(10),\n",
        "               marker = {'color': 'lightblue',\n",
        "                         'line': {'color': '#333',\n",
        "                                  'width': 2}\n",
        "                        },\n",
        "               name='Baixa renda',\n",
        "               opacity= 0.7,\n",
        "               orientation = 'h'\n",
        "              ),\n",
        "        go.Bar(x=maior_taxa_DomiciliosA.popMaisDe60.head(10),\n",
        "               y=maior_taxa_DomiciliosA.nome.head(10),\n",
        "               marker = {'color': 'lightgreen',\n",
        "                         'line': {'color': '#333',\n",
        "                                  'width': 2}\n",
        "                        },\n",
        "               name='Alta renda',\n",
        "               opacity= 0.7,\n",
        "               orientation = 'h'\n",
        "              )\n",
        "       ]\n",
        "\n",
        "# Criando Layout\n",
        "configuracoes_layout = go.Layout(title='Diferença da qtd de população na faixa etária de 60 anos ou mais,  nos bairros com maiores indices de domicilios de baixa renda e de alta renda ',\n",
        "                                 yaxis={'title':'População'},\n",
        "                                 xaxis={'title':'bairros'})\n",
        "\n",
        "# Objeto figura\n",
        "\n",
        "fig = go.Figure(data=data, layout=configuracoes_layout)\n",
        "fig.show()"
      ],
      "execution_count": null,
      "outputs": []
    },
    {
      "cell_type": "code",
      "metadata": {
        "id": "WO8w2H53lryH"
      },
      "source": [
        ""
      ],
      "execution_count": null,
      "outputs": []
    },
    {
      "cell_type": "markdown",
      "metadata": {
        "id": "UHbym8Kxmift"
      },
      "source": [
        "## 9. Bairros de maior população e o Bairros com o maior faturamento"
      ]
    },
    {
      "cell_type": "code",
      "metadata": {
        "id": "JHApZs-DnmVH"
      },
      "source": [
        "populosos=df[df.população>df.população.mean()]\n",
        "# Aqui faço uma query pegar os bairros que tem população acima media , para assim reduzir o tamanho do nosso dataset, de  154 para 46\n",
        "populosos.shape"
      ],
      "execution_count": null,
      "outputs": []
    },
    {
      "cell_type": "code",
      "metadata": {
        "id": "lPwFv9bOn-40"
      },
      "source": [
        "populosos = populosos.sort_values(ascending=False,by='população')\n",
        "#aqui faço uma ordenação da base decrescente a partir da população, e exibo os 5 bairros mais populosos do RJ\n",
        "populosos.head()"
      ],
      "execution_count": null,
      "outputs": []
    },
    {
      "cell_type": "code",
      "metadata": {
        "id": "63WnJ8nApXCt"
      },
      "source": [
        "faturamente = df[df.faturamento>df.faturamento.mean()]"
      ],
      "execution_count": null,
      "outputs": []
    },
    {
      "cell_type": "code",
      "metadata": {
        "id": "g9-QsG1zqovQ"
      },
      "source": [
        "#faço o mesmo passo a passo  que fiz para a populaçao para o faturamento.\n",
        "faturamento = faturamente.sort_values(by = 'faturamento', ascending=False)\n",
        "faturamento.head()"
      ],
      "execution_count": null,
      "outputs": []
    },
    {
      "cell_type": "markdown",
      "metadata": {
        "id": "zkLXcWYbrcA-"
      },
      "source": [
        "**Podemos perceber que o os 5 bairros de maior faturamento nenhum apresenta mais de 7 mil domicilios de classe baixa,já dos bairros mais populosos o que menor apresenta uma taxa domicilios de classe baixa é a Tijica com pouco mais de 4 mil**"
      ]
    },
    {
      "cell_type": "code",
      "metadata": {
        "id": "21zXT0dxq0Dl"
      },
      "source": [
        ""
      ],
      "execution_count": null,
      "outputs": []
    },
    {
      "cell_type": "markdown",
      "metadata": {
        "id": "RifQg_b1tuVs"
      },
      "source": [
        "## Análises estatística"
      ]
    },
    {
      "cell_type": "code",
      "metadata": {
        "id": "zpVKmkHGttXd"
      },
      "source": [
        "df.sort_values(by='rendaMedia',ascending=False).head()"
      ],
      "execution_count": null,
      "outputs": []
    },
    {
      "cell_type": "code",
      "metadata": {
        "id": "wABSU4S4t1nW"
      },
      "source": [
        "corr = df.corr()"
      ],
      "execution_count": null,
      "outputs": []
    },
    {
      "cell_type": "code",
      "metadata": {
        "id": "CRlz5DjHJSpx"
      },
      "source": [
        "import seaborn as sns\n",
        "import matplotlib.pyplot as plt\n",
        "sns.set_theme(style=\"dark\")"
      ],
      "execution_count": null,
      "outputs": []
    },
    {
      "cell_type": "code",
      "metadata": {
        "id": "HxQqVqqOLJ33"
      },
      "source": [
        ""
      ],
      "execution_count": null,
      "outputs": []
    },
    {
      "cell_type": "code",
      "metadata": {
        "id": "N9vd0PS2J_KZ"
      },
      "source": [
        "mask = np.triu(np.ones_like(corr, dtype=bool))"
      ],
      "execution_count": null,
      "outputs": []
    },
    {
      "cell_type": "code",
      "metadata": {
        "id": "rxCTmr91LIyZ"
      },
      "source": [
        "f, ax = plt.subplots(figsize=(11, 9))\n",
        "cmap = sns.diverging_palette(230, 20, as_cmap=True)\n",
        "sns.heatmap(corr, mask=mask, cmap=cmap, vmax=.3, center=0,\n",
        "            square=True, linewidths=.5, cbar_kws={\"shrink\": .5})"
      ],
      "execution_count": null,
      "outputs": []
    },
    {
      "cell_type": "code",
      "metadata": {
        "id": "7I7a2jtANgEw"
      },
      "source": [
        ""
      ],
      "execution_count": null,
      "outputs": []
    },
    {
      "cell_type": "markdown",
      "metadata": {
        "id": "4ncNqStxNg1G"
      },
      "source": [
        "### Boxplot dos domicilios"
      ]
    },
    {
      "cell_type": "code",
      "metadata": {
        "id": "y_59Q8RULXKT"
      },
      "source": [
        "fig = go.Figure()\n",
        "fig.add_trace(go.Box(y=df.domiciliosA1,name=\"Domicilios A1\"))\n",
        "fig.add_trace(go.Box(y=df.domiciliosA2,name=\"Domicilios A2\"))\n",
        "fig.add_trace(go.Box(y=df.domiciliosB1,name=\"Domicilios B1\"))\n",
        "fig.add_trace(go.Box(y=df.domiciliosB2,name=\"Domicilios B2\"))\n",
        "fig.add_trace(go.Box(y=df.domiciliosC1,name=\"Domicilios C1\"))\n",
        "fig.add_trace(go.Box(y=df.domiciliosC2,name=\"Domicilios C2\"))\n",
        "fig.add_trace(go.Box(y=df.domiciliosD,name=\"Domicilios D\"))\n",
        "fig.add_trace(go.Box(y=df.domiciliosE,name=\"Domicilios E\"))\n",
        "\n",
        "fig.show()"
      ],
      "execution_count": null,
      "outputs": []
    },
    {
      "cell_type": "markdown",
      "metadata": {
        "id": "6CYRTqavNmeH"
      },
      "source": [
        "### Boxplot da renda media"
      ]
    },
    {
      "cell_type": "code",
      "metadata": {
        "id": "vomNrIyYMBXr"
      },
      "source": [
        "fig = go.Figure()\n",
        "fig.add_trace(go.Box(y=df.rendaMedia,name=\"Renda media\"))\n",
        "\n",
        "fig.show()"
      ],
      "execution_count": null,
      "outputs": []
    },
    {
      "cell_type": "code",
      "metadata": {
        "id": "_dvyalaHONQH"
      },
      "source": [
        "df_backup = df.copy()"
      ],
      "execution_count": null,
      "outputs": []
    },
    {
      "cell_type": "code",
      "metadata": {
        "id": "jPHmgP9xNzhh"
      },
      "source": [
        "df.drop(index=[1,11,40],inplace=True)"
      ],
      "execution_count": null,
      "outputs": []
    },
    {
      "cell_type": "code",
      "metadata": {
        "id": "PKtakLcTOWjh"
      },
      "source": [
        "df.rendaMedia.min()"
      ],
      "execution_count": null,
      "outputs": []
    },
    {
      "cell_type": "markdown",
      "metadata": {
        "id": "k4R_N0-gPq93"
      },
      "source": [
        "### Boxplot Faturamento"
      ]
    },
    {
      "cell_type": "code",
      "metadata": {
        "id": "XDko24YJOeA4"
      },
      "source": [
        "fig = go.Figure()\n",
        "fig.add_trace(go.Box(y=df.faturamento,name=\"Renda media\"))\n",
        "\n",
        "fig.show()"
      ],
      "execution_count": null,
      "outputs": []
    },
    {
      "cell_type": "code",
      "metadata": {
        "id": "NPZewB7DPxnZ"
      },
      "source": [
        ""
      ],
      "execution_count": null,
      "outputs": []
    },
    {
      "cell_type": "markdown",
      "metadata": {
        "id": "7Bd881UxSPwW"
      },
      "source": [
        "# Modelo"
      ]
    },
    {
      "cell_type": "code",
      "metadata": {
        "id": "egECLsSSVooG"
      },
      "source": [
        "df.columns"
      ],
      "execution_count": null,
      "outputs": []
    },
    {
      "cell_type": "code",
      "metadata": {
        "id": "IcY94AVkVktQ"
      },
      "source": [
        "feature = ['domiciliosA1','domiciliosA2',\n",
        "       'domiciliosB1', 'domiciliosB2', 'domiciliosC1', 'domiciliosC2',\n",
        "       'domiciliosD', 'domiciliosE', 'rendaMedia']"
      ],
      "execution_count": null,
      "outputs": []
    },
    {
      "cell_type": "code",
      "metadata": {
        "id": "iEP1N0LuVh8O"
      },
      "source": [
        "X = df[feature]\n",
        "X"
      ],
      "execution_count": null,
      "outputs": []
    },
    {
      "cell_type": "code",
      "metadata": {
        "id": "WMFTBajsWK9m"
      },
      "source": [
        "y = df['faturamento']\n",
        "y"
      ],
      "execution_count": null,
      "outputs": []
    },
    {
      "cell_type": "code",
      "metadata": {
        "id": "m9og5ASOSRWQ"
      },
      "source": [
        "X_train,X_test, y_train,y_test = train_test_split(X,y,test_size=0.33,random_state=42)"
      ],
      "execution_count": null,
      "outputs": []
    },
    {
      "cell_type": "markdown",
      "metadata": {
        "id": "1Q5qo3gDaRA9"
      },
      "source": [
        "### Fazendo nosso baseline"
      ]
    },
    {
      "cell_type": "code",
      "metadata": {
        "id": "paS0Vkk5Z-79"
      },
      "source": [
        "baseline = DummyRegressor()"
      ],
      "execution_count": null,
      "outputs": []
    },
    {
      "cell_type": "code",
      "metadata": {
        "id": "g6dNKk6MaDq-"
      },
      "source": [
        " metricas = ['explained_variance', 'neg_mean_absolute_error', 'neg_mean_squared_error', 'neg_median_absolute_error', 'r2']"
      ],
      "execution_count": null,
      "outputs": []
    },
    {
      "cell_type": "code",
      "metadata": {
        "id": "Ts59qlbAaO92"
      },
      "source": [
        "baseline.get_params().keys()"
      ],
      "execution_count": null,
      "outputs": []
    },
    {
      "cell_type": "code",
      "metadata": {
        "id": "6tBCMth6aZ3G"
      },
      "source": [
        "params = {\n",
        "    'strategy':['mean','median','quartile','constant'],\n",
        "    'quantile':[.75],\n",
        "    'constant':[300000]\n",
        "}"
      ],
      "execution_count": null,
      "outputs": []
    },
    {
      "cell_type": "code",
      "metadata": {
        "id": "8Nrg-yNea1AB"
      },
      "source": [
        "grid_baseline = GridSearchCV(baseline,param_grid=params, scoring=metricas, verbose=100, refit='neg_mean_squared_error',return_train_score=False)"
      ],
      "execution_count": null,
      "outputs": []
    },
    {
      "cell_type": "code",
      "metadata": {
        "id": "5l2GTXTdbPyJ"
      },
      "source": [
        "grid_baseline.fit(X_train,y_train)"
      ],
      "execution_count": null,
      "outputs": []
    },
    {
      "cell_type": "code",
      "metadata": {
        "id": "IJBSDXpbbVWn"
      },
      "source": [
        "grid_baseline.best_estimator_"
      ],
      "execution_count": null,
      "outputs": []
    },
    {
      "cell_type": "code",
      "metadata": {
        "id": "x9I37BtRbhD9"
      },
      "source": [
        "np.sqrt(grid_baseline.best_score_ * -1)"
      ],
      "execution_count": null,
      "outputs": []
    },
    {
      "cell_type": "code",
      "metadata": {
        "id": "lCsln9ISblGe"
      },
      "source": [
        "pd.set_option('max_columns',200)\n",
        "grid_df_baseline=pd.DataFrame(grid_baseline.cv_results_)"
      ],
      "execution_count": null,
      "outputs": []
    },
    {
      "cell_type": "code",
      "metadata": {
        "id": "q1fMNWJBcBrq"
      },
      "source": [
        "grid_df_baseline"
      ],
      "execution_count": null,
      "outputs": []
    },
    {
      "cell_type": "markdown",
      "metadata": {
        "id": "uLSukdDicJLV"
      },
      "source": [
        "### Linear Regression"
      ]
    },
    {
      "cell_type": "code",
      "metadata": {
        "id": "aCVWzZdrcIiF"
      },
      "source": [
        "reg_linear = LinearRegression()"
      ],
      "execution_count": null,
      "outputs": []
    },
    {
      "cell_type": "code",
      "metadata": {
        "id": "AlFW9gEbcC6V"
      },
      "source": [
        "reg_linear.get_params().keys()"
      ],
      "execution_count": null,
      "outputs": []
    },
    {
      "cell_type": "code",
      "metadata": {
        "id": "Ebpn9URwcV--"
      },
      "source": [
        "params_reg = {\n",
        "    'fit_intercept':[True,False],\n",
        "    'normalize':[True,False]\n",
        "}"
      ],
      "execution_count": null,
      "outputs": []
    },
    {
      "cell_type": "code",
      "metadata": {
        "id": "q2KQmIUMcjsn"
      },
      "source": [
        "grid_reg_linear = GridSearchCV(reg_linear, param_grid=params_reg,cv=10 ,scoring=metricas, verbose=100, refit='neg_mean_squared_error', return_train_score=False)"
      ],
      "execution_count": null,
      "outputs": []
    },
    {
      "cell_type": "code",
      "metadata": {
        "id": "VN7EMCPwdHfZ"
      },
      "source": [
        "grid_reg_linear.fit(X_train,y_train)"
      ],
      "execution_count": null,
      "outputs": []
    },
    {
      "cell_type": "code",
      "metadata": {
        "id": "BbX8LEx2dNFt"
      },
      "source": [
        "grid_reg_linear.best_estimator_"
      ],
      "execution_count": null,
      "outputs": []
    },
    {
      "cell_type": "code",
      "metadata": {
        "id": "3sWMGAQoe4JG"
      },
      "source": [
        "linear_best_score = np.sqrt(grid_reg_linear.best_score_*-1)"
      ],
      "execution_count": null,
      "outputs": []
    },
    {
      "cell_type": "code",
      "metadata": {
        "id": "quOgUIa3h6iX"
      },
      "source": [
        "linear_best_score"
      ],
      "execution_count": null,
      "outputs": []
    },
    {
      "cell_type": "code",
      "metadata": {
        "id": "QhPp0YrufSoN"
      },
      "source": [
        "pd.DataFrame(grid_reg_linear.cv_results_)"
      ],
      "execution_count": null,
      "outputs": []
    },
    {
      "cell_type": "markdown",
      "metadata": {
        "id": "eSpbFh3UfLxk"
      },
      "source": [
        "### Decision Tree Regressor"
      ]
    },
    {
      "cell_type": "code",
      "metadata": {
        "id": "N-O0QnSYe_g1"
      },
      "source": [
        "tree_reg = DecisionTreeRegressor()"
      ],
      "execution_count": null,
      "outputs": []
    },
    {
      "cell_type": "code",
      "metadata": {
        "id": "IeZP0BLafv5V"
      },
      "source": [
        "tree_reg.get_params().keys()"
      ],
      "execution_count": null,
      "outputs": []
    },
    {
      "cell_type": "code",
      "metadata": {
        "id": "61CfFubhgikV"
      },
      "source": [
        "params_tree ={\n",
        "            \"splitter\":[\"best\",\"random\"],\n",
        "            \"max_depth\" : [1,3,5,7,9,11,12],\n",
        "            \"min_samples_leaf\":[1,2,3,4,5,6,7,8,9,10],\n",
        "            \"max_features\":[\"auto\",\"log2\",\"sqrt\"],\n",
        "            \"max_leaf_nodes\":[10,20,30,40,50,60,70,80,90] \n",
        "            }"
      ],
      "execution_count": null,
      "outputs": []
    },
    {
      "cell_type": "code",
      "metadata": {
        "id": "25FF8Jd0fqh_"
      },
      "source": [
        "grid_tree_reg = GridSearchCV(tree_reg,param_grid=params_tree,cv=5,scoring=metricas, verbose=50, refit='neg_mean_squared_error', return_train_score=False)"
      ],
      "execution_count": null,
      "outputs": []
    },
    {
      "cell_type": "code",
      "metadata": {
        "id": "Xuuqx1pXiGHV"
      },
      "source": [
        "grid_tree_reg.fit(X_train,y_train)"
      ],
      "execution_count": null,
      "outputs": []
    },
    {
      "cell_type": "code",
      "metadata": {
        "id": "lAdjb5bXiOOu"
      },
      "source": [
        "grid_tree_reg.best_estimator_"
      ],
      "execution_count": null,
      "outputs": []
    },
    {
      "cell_type": "code",
      "metadata": {
        "id": "G2DwziZ4k0_3"
      },
      "source": [
        "np.sqrt(grid_tree_reg.best_score_*-1)"
      ],
      "execution_count": null,
      "outputs": []
    },
    {
      "cell_type": "markdown",
      "metadata": {
        "id": "UTGWNKu7wxxd"
      },
      "source": [
        "### Random Florest"
      ]
    },
    {
      "cell_type": "code",
      "metadata": {
        "id": "SiSBmqLhk-2V"
      },
      "source": [
        "params_randomF = {\n",
        "    'bootstrap': [True,False],\n",
        "    'max_depth': [80, 90, 100, 110],\n",
        "    'max_features': [2, 3],\n",
        "    'min_samples_leaf': [3, 4, 5],\n",
        "    'min_samples_split': [8, 10, 12],\n",
        "    'n_estimators': [100, 200, 300, 1000]\n",
        "}\n",
        "\n",
        "\n",
        "rF = RandomForestRegressor()"
      ],
      "execution_count": null,
      "outputs": []
    },
    {
      "cell_type": "code",
      "metadata": {
        "id": "Xo8VITQHxICd"
      },
      "source": [
        "grid_random_florest = GridSearchCV(rF,param_grid=params_randomF,scoring=metricas,cv = 3, n_jobs = -1, verbose = 50,refit='neg_mean_squared_error', return_train_score=False)"
      ],
      "execution_count": null,
      "outputs": []
    },
    {
      "cell_type": "code",
      "metadata": {
        "id": "_d3dArzHxdZN"
      },
      "source": [
        "grid_random_florest.fit(X_train,y_train)"
      ],
      "execution_count": null,
      "outputs": []
    },
    {
      "cell_type": "code",
      "metadata": {
        "id": "1OPhSZMXxnAE"
      },
      "source": [
        "grid_random_florest.best_estimator_"
      ],
      "execution_count": null,
      "outputs": []
    },
    {
      "cell_type": "code",
      "metadata": {
        "id": "U72nYFb50ZVx"
      },
      "source": [
        "grid_score_random_florest = np.sqrt(grid_random_florest.best_score_*-1)\n",
        "grid_score_random_florest "
      ],
      "execution_count": null,
      "outputs": []
    },
    {
      "cell_type": "markdown",
      "metadata": {
        "id": "dUcxTUF32muy"
      },
      "source": [
        "### Gradiente boosting regressor"
      ]
    },
    {
      "cell_type": "code",
      "metadata": {
        "id": "xHMvceIL0mI-"
      },
      "source": [
        "gradiente_params = {\n",
        "    'n_estimators':[500,1000,2000],\n",
        "    'learning_rate':[.001,0.01,.1],\n",
        "    'max_depth':[1,2,4,6,8,10],\n",
        "    'subsample':[.5,.75,1],\n",
        "    'random_state':[42]\n",
        "}\n",
        "\n",
        "gbr = GradientBoostingRegressor()"
      ],
      "execution_count": null,
      "outputs": []
    },
    {
      "cell_type": "code",
      "metadata": {
        "id": "cRRNDSvD3NF_"
      },
      "source": [
        "grid_gbr = GridSearchCV(gbr,param_grid=gradiente_params,scoring=metricas,n_jobs=5,cv=10,refit='neg_mean_squared_error',verbose = 50, return_train_score=False)"
      ],
      "execution_count": null,
      "outputs": []
    },
    {
      "cell_type": "code",
      "metadata": {
        "id": "1uDaX0KV3lCI"
      },
      "source": [
        "grid_gbr.fit(X_train,y_train)"
      ],
      "execution_count": null,
      "outputs": []
    },
    {
      "cell_type": "code",
      "metadata": {
        "id": "lwvwFrSQ3pjq"
      },
      "source": [
        "grid_gbr.best_estimator_"
      ],
      "execution_count": null,
      "outputs": []
    },
    {
      "cell_type": "code",
      "metadata": {
        "id": "XN_Kvwa84uRO"
      },
      "source": [
        "np.sqrt(grid_gbr.best_score_*-1)"
      ],
      "execution_count": null,
      "outputs": []
    },
    {
      "cell_type": "code",
      "metadata": {
        "id": "Sox7VL0NAL4S"
      },
      "source": [
        ""
      ],
      "execution_count": null,
      "outputs": []
    },
    {
      "cell_type": "markdown",
      "metadata": {
        "id": "AJs584bRAT-V"
      },
      "source": [
        "### Olhando os scores"
      ]
    },
    {
      "cell_type": "code",
      "metadata": {
        "id": "IAa6W8B-CFkD"
      },
      "source": [
        "score_reg_linear = np.sqrt(grid_reg_linear.best_score_*-1)\n",
        "score_decision_tree_regr = np.sqrt(grid_tree_reg.best_score_*-1)\n",
        "score_random_florest = grid_score_random_florest \n",
        "score_gbr = np.sqrt(grid_gbr.best_score_*-1)"
      ],
      "execution_count": null,
      "outputs": []
    },
    {
      "cell_type": "code",
      "metadata": {
        "id": "EMXK_a_wBqhS"
      },
      "source": [
        "display_score(grid_reg_linear.score(X_test,y_test))"
      ],
      "execution_count": null,
      "outputs": []
    },
    {
      "cell_type": "code",
      "metadata": {
        "id": "I8rtKuQhGohy"
      },
      "source": [
        "scores_train = {\n",
        "    'reg_linear_train': [score_reg_linear],\n",
        "    'decision_tree_regr_train': [score_decision_tree_regr],\n",
        "    'random_florest_train': [score_random_florest],\n",
        "    'score_gbr_train':[score_gbr]\n",
        "}"
      ],
      "execution_count": null,
      "outputs": []
    },
    {
      "cell_type": "code",
      "metadata": {
        "id": "tq4bzWuVJTZy"
      },
      "source": [
        "df_score_train = pd.DataFrame(data=scores_train,dtype=float,index=pd.RangeIndex(start=0,step=1,stop=1))\n",
        "df_score_train"
      ],
      "execution_count": null,
      "outputs": []
    },
    {
      "cell_type": "code",
      "metadata": {
        "id": "8JOfi18JMI8R"
      },
      "source": [
        "scores_test = {\n",
        "    'reg_linear_score_test':[round(np.sqrt(grid_reg_linear.score(X_test,y_test)*-1))],\n",
        "    'decision_tree_regr_score_test':[round(np.sqrt(grid_tree_reg.score(X_test,y_test)*-1))],\n",
        "    'random_florest_score_test':[round(np.sqrt(grid_random_florest.score(X_test,y_test)*-1))],\n",
        "    'gbr_score_test':[round(np.sqrt(grid_gbr.score(X_test,y_test)*-1))]\n",
        "}"
      ],
      "execution_count": null,
      "outputs": []
    },
    {
      "cell_type": "code",
      "metadata": {
        "id": "OkqI2VmNNY7S"
      },
      "source": [
        "df_score_test = pd.DataFrame(data=scores_test,dtype=float,index=pd.RangeIndex(start=0,step=1,stop=1))\n",
        "df_score_test"
      ],
      "execution_count": null,
      "outputs": []
    },
    {
      "cell_type": "markdown",
      "metadata": {
        "id": "QwgyEhefRAWu"
      },
      "source": [
        "### Bom podemos ver que o dentre os 4 algoritmos escolhidos o que saiu melhor é o gradiente boosting regressor ."
      ]
    },
    {
      "cell_type": "code",
      "metadata": {
        "id": "eiTJmeORR8kw"
      },
      "source": [
        "grid_gbr.best_params_"
      ],
      "execution_count": null,
      "outputs": []
    },
    {
      "cell_type": "code",
      "metadata": {
        "id": "7-GefsfwOSGn"
      },
      "source": [
        "gbr = GradientBoostingRegressor(learning_rate=0.1,max_depth=1,n_estimators=2000,random_state=42,subsample=1)\n"
      ],
      "execution_count": null,
      "outputs": []
    },
    {
      "cell_type": "code",
      "metadata": {
        "id": "Oc0Di4CpSPRB"
      },
      "source": [
        "gbr.fit(X_train,y_train)"
      ],
      "execution_count": null,
      "outputs": []
    },
    {
      "cell_type": "code",
      "metadata": {
        "id": "NWvyLNmUSUfI"
      },
      "source": [
        "gbr.score(X_test,y_test)*100"
      ],
      "execution_count": null,
      "outputs": []
    },
    {
      "cell_type": "code",
      "metadata": {
        "id": "jWEFFaxuSicS"
      },
      "source": [
        "X.columns"
      ],
      "execution_count": null,
      "outputs": []
    },
    {
      "cell_type": "code",
      "metadata": {
        "id": "vAKzSpEwTMWu"
      },
      "source": [
        "teste = X_test.sample()"
      ],
      "execution_count": null,
      "outputs": []
    },
    {
      "cell_type": "code",
      "metadata": {
        "id": "wdXdbgcwTxS_"
      },
      "source": [
        "teste"
      ],
      "execution_count": null,
      "outputs": []
    },
    {
      "cell_type": "code",
      "metadata": {
        "id": "ac5OhH-cSbkP"
      },
      "source": [
        "gbr.predict(teste)"
      ],
      "execution_count": null,
      "outputs": []
    },
    {
      "cell_type": "code",
      "metadata": {
        "id": "i4CAQ8EGT6gs"
      },
      "source": [
        "y_test"
      ],
      "execution_count": null,
      "outputs": []
    },
    {
      "cell_type": "markdown",
      "metadata": {
        "id": "CC0vGYCWV8cv"
      },
      "source": [
        "### Expotando o modelo"
      ]
    },
    {
      "cell_type": "code",
      "metadata": {
        "id": "-NW5o0hWS-3B"
      },
      "source": [
        "import pickle"
      ],
      "execution_count": null,
      "outputs": []
    },
    {
      "cell_type": "code",
      "metadata": {
        "id": "qX4xRGWuaFxO"
      },
      "source": [
        "with open('predict_gbr.pkl', 'wb') as file:\n",
        "    pickle.dump(gbr, file)"
      ],
      "execution_count": null,
      "outputs": []
    },
    {
      "cell_type": "code",
      "metadata": {
        "id": "yDbyLZypbFBe"
      },
      "source": [
        ""
      ],
      "execution_count": null,
      "outputs": []
    }
  ]
}